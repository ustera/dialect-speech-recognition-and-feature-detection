{
 "cells": [
  {
   "cell_type": "markdown",
   "id": "a57830e1",
   "metadata": {},
   "source": [
    "# Import all required packages"
   ]
  },
  {
   "cell_type": "code",
   "execution_count": null,
   "id": "d41ff9a7",
   "metadata": {},
   "outputs": [],
   "source": [
    "!pip install pandas\n",
    "!pip install librosa\n",
    "!pip install numpy\n",
    "!pip install pickle\n",
    "!pip install scikit-learn\n",
    "!pip install xgboost\n",
    "!pip install LGBMClassifier"
   ]
  },
  {
   "cell_type": "code",
   "execution_count": 6,
   "id": "bf0e00b9",
   "metadata": {},
   "outputs": [],
   "source": [
    "import os\n",
    "import re\n",
    "from tqdm import tqdm\n",
    "import pandas as pd\n",
    "import numpy as np\n",
    "import librosa\n",
    "from sklearn.model_selection import train_test_split\n",
    "from sklearn.metrics import f1_score, precision_score, recall_score\n",
    "from lightgbm import LGBMClassifier\n",
    "import xgboost as xgb\n",
    "from sklearn.naive_bayes import GaussianNB\n",
    "import pickle"
   ]
  },
  {
   "cell_type": "markdown",
   "id": "6556d8e4",
   "metadata": {},
   "source": [
    "# Data preparation"
   ]
  },
  {
   "cell_type": "markdown",
   "id": "41488f11",
   "metadata": {},
   "source": [
    "## Reading a markup file and audio recordings"
   ]
  },
  {
   "cell_type": "code",
   "execution_count": 7,
   "id": "f7737716",
   "metadata": {},
   "outputs": [],
   "source": [
    "df = pd.read_excel('/content/mga_dialect_audio.xlsx')"
   ]
  },
  {
   "cell_type": "code",
   "execution_count": 8,
   "id": "fa5c980d",
   "metadata": {},
   "outputs": [],
   "source": [
    "df_data = df[['path', 'dialect']]"
   ]
  },
  {
   "cell_type": "code",
   "execution_count": 9,
   "id": "4812eea6",
   "metadata": {},
   "outputs": [],
   "source": [
    "def load_audio(df_data):\n",
    "    audios = []\n",
    "    labels = []\n",
    "    for index, row in tqdm(df_data.iterrows()):\n",
    "        audio, sample_rate = librosa.load(row['path'], sr=16000)\n",
    "        mfccs = librosa.feature.mfcc(y=audio, sr=16000, n_mfcc=40)\n",
    "        mfccs_s = np.mean(mfccs.T, axis=0)\n",
    "        audios.append(mfccs_s)\n",
    "        labels.append(row['dialect'])\n",
    "    return audios, labels"
   ]
  },
  {
   "cell_type": "code",
   "execution_count": 10,
   "id": "cf3fa3f0",
   "metadata": {},
   "outputs": [
    {
     "name": "stderr",
     "output_type": "stream",
     "text": [
      "1823it [01:03, 28.85it/s]\n"
     ]
    }
   ],
   "source": [
    "audios, labels = load_audio(df_data)\n",
    "df_audio = pd.DataFrame(audios)\n",
    "df_audio['label'] = labels"
   ]
  },
  {
   "cell_type": "markdown",
   "id": "51fe877d",
   "metadata": {},
   "source": [
    "# Trainig"
   ]
  },
  {
   "cell_type": "markdown",
   "id": "17aaf3c9",
   "metadata": {},
   "source": [
    "## Split on test and train"
   ]
  },
  {
   "cell_type": "code",
   "execution_count": 11,
   "id": "ef8263c1",
   "metadata": {},
   "outputs": [],
   "source": [
    "X_train, X_test, y_train, y_test = train_test_split(df_audio.drop(['label'], axis=1), df_audio['label'], test_size=0.3, random_state=22)"
   ]
  },
  {
   "cell_type": "markdown",
   "id": "b6e2efe0",
   "metadata": {},
   "source": [
    "## Training of the model LGBMClassifier"
   ]
  },
  {
   "cell_type": "code",
   "execution_count": 42,
   "id": "6252c043",
   "metadata": {},
   "outputs": [
    {
     "name": "stdout",
     "output_type": "stream",
     "text": [
      "0.48066298342541436\n",
      "0.5471698113207547\n",
      "0.42857142857142855\n"
     ]
    }
   ],
   "source": [
    "clf = LGBMClassifier(max_depth=100, learning_rate=0.01, n_estimators=1000, n_jobs=-1, random_state=22, reg_alpha=0.2)\n",
    "clf.fit(X_train, y_train)\n",
    "y_pred = clf.predict(X_test)\n",
    "print(f1_score(y_test, y_pred))\n",
    "print(precision_score(y_test, y_pred))\n",
    "print(recall_score(y_test, y_pred))"
   ]
  },
  {
   "cell_type": "code",
   "execution_count": 54,
   "id": "993e5fd2",
   "metadata": {},
   "outputs": [],
   "source": [
    "with open('clf.pkl', 'wb') as f:\n",
    "    pickle.dump(clf, f)"
   ]
  },
  {
   "cell_type": "markdown",
   "id": "dd9dff8f",
   "metadata": {},
   "source": [
    "## Training of the model XGBClassifier"
   ]
  },
  {
   "cell_type": "code",
   "execution_count": 44,
   "id": "870b4d1b",
   "metadata": {},
   "outputs": [
    {
     "name": "stdout",
     "output_type": "stream",
     "text": [
      "0.48913043478260865\n",
      "0.5454545454545454\n",
      "0.4433497536945813\n"
     ]
    }
   ],
   "source": [
    "xgb_cl = xgb.XGBClassifier(max_depth=5, learning_rate=0.01, n_estimators=1000)\n",
    "xgb_cl.fit(X_train, y_train)\n",
    "y_pred = xgb_cl.predict(X_test)\n",
    "print(f1_score(y_test, y_pred))\n",
    "print(precision_score(y_test, y_pred))\n",
    "print(recall_score(y_test, y_pred))"
   ]
  },
  {
   "cell_type": "code",
   "execution_count": 55,
   "id": "37c486c2",
   "metadata": {},
   "outputs": [],
   "source": [
    "with open('xgb_cl.pkl', 'wb') as f:\n",
    "    pickle.dump(xgb_cl, f)"
   ]
  },
  {
   "cell_type": "markdown",
   "id": "8cfa8a60",
   "metadata": {},
   "source": [
    "## Training of the model GaussianNB"
   ]
  },
  {
   "cell_type": "code",
   "execution_count": 45,
   "id": "9034fbb5",
   "metadata": {},
   "outputs": [
    {
     "name": "stdout",
     "output_type": "stream",
     "text": [
      "0.551440329218107\n",
      "0.4734982332155477\n",
      "0.6600985221674877\n"
     ]
    }
   ],
   "source": [
    "gaus = GaussianNB()\n",
    "gaus.fit(X_train, y_train)\n",
    "y_pred = gaus.predict(X_test)\n",
    "print(f1_score(y_test, y_pred))\n",
    "print(precision_score(y_test, y_pred))\n",
    "print(recall_score(y_test, y_pred))"
   ]
  },
  {
   "cell_type": "code",
   "execution_count": 56,
   "id": "85b529aa",
   "metadata": {},
   "outputs": [],
   "source": [
    "with open('gaus.pkl', 'wb') as f:\n",
    "    pickle.dump(gaus, f)"
   ]
  }
 ],
 "metadata": {
  "kernelspec": {
   "display_name": "Python 3 (ipykernel)",
   "language": "python",
   "name": "python3"
  },
  "language_info": {
   "codemirror_mode": {
    "name": "ipython",
    "version": 3
   },
   "file_extension": ".py",
   "mimetype": "text/x-python",
   "name": "python",
   "nbconvert_exporter": "python",
   "pygments_lexer": "ipython3",
   "version": "3.7.4"
  }
 },
 "nbformat": 4,
 "nbformat_minor": 5
}
