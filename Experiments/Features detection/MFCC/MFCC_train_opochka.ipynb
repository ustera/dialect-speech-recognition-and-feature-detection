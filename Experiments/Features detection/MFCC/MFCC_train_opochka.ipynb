{
 "cells": [
  {
   "cell_type": "markdown",
   "id": "3fdb0e14",
   "metadata": {},
   "source": [
    "# Import all required packages"
   ]
  },
  {
   "cell_type": "code",
   "execution_count": null,
   "id": "2bf6b32d",
   "metadata": {},
   "outputs": [],
   "source": [
    "!pip install pandas\n",
    "!pip install librosa\n",
    "!pip install numpy\n",
    "!pip install pickle\n",
    "!pip install scikit-learn"
   ]
  },
  {
   "cell_type": "code",
   "execution_count": 2,
   "id": "3e3551e0",
   "metadata": {},
   "outputs": [],
   "source": [
    "import pandas as pd\n",
    "from tqdm import tqdm\n",
    "import librosa\n",
    "import numpy as np\n",
    "import pickle\n",
    "from sklearn.metrics import f1_score, precision_score, recall_score\n",
    "from sklearn.model_selection import train_test_split"
   ]
  },
  {
   "cell_type": "markdown",
   "id": "d081d54d",
   "metadata": {},
   "source": [
    "# Data preparation"
   ]
  },
  {
   "cell_type": "markdown",
   "id": "496fcea7",
   "metadata": {},
   "source": [
    "## Reading a markup file and audio recordings"
   ]
  },
  {
   "cell_type": "code",
   "execution_count": 3,
   "id": "64717307",
   "metadata": {},
   "outputs": [],
   "source": [
    "df_opochka = pd.read_excel('/content/enm1930_ner.xlsx')"
   ]
  },
  {
   "cell_type": "code",
   "execution_count": 4,
   "id": "158dfe4a",
   "metadata": {},
   "outputs": [],
   "source": [
    "df_opochka_data = df_opochka[['path', 'dialect']]"
   ]
  },
  {
   "cell_type": "code",
   "execution_count": 5,
   "id": "6715226f",
   "metadata": {},
   "outputs": [],
   "source": [
    "def load_audio(df_data):\n",
    "    audios = []\n",
    "    labels = []\n",
    "    for index, row in tqdm(df_data.iterrows()):\n",
    "        audio, sample_rate = librosa.load(row['path'], sr=16000)\n",
    "        mfccs = librosa.feature.mfcc(y=audio, sr=16000, n_mfcc=40)\n",
    "        mfccs_s = np.mean(mfccs.T, axis=0)\n",
    "        audios.append(mfccs_s)\n",
    "        labels.append(row['dialect'])\n",
    "    return audios, labels"
   ]
  },
  {
   "cell_type": "code",
   "execution_count": 6,
   "id": "a3e270e0",
   "metadata": {},
   "outputs": [
    {
     "name": "stderr",
     "output_type": "stream",
     "text": [
      "468it [00:30, 15.52it/s]\n"
     ]
    }
   ],
   "source": [
    "audios, labels = load_audio(df_opochka_data)\n",
    "df_audio = pd.DataFrame(audios)\n",
    "df_audio['label'] = labels"
   ]
  },
  {
   "cell_type": "markdown",
   "id": "c04ff582",
   "metadata": {},
   "source": [
    "# Evaluation on already trained models"
   ]
  },
  {
   "cell_type": "markdown",
   "id": "6fbd0eef",
   "metadata": {},
   "source": [
    "## Loading pretrained models"
   ]
  },
  {
   "cell_type": "code",
   "execution_count": 8,
   "id": "c3cccc02",
   "metadata": {},
   "outputs": [],
   "source": [
    "loaded_model = pickle.load(open('clf.pkl', 'rb'))\n",
    "loaded_model_xgb = pickle.load(open('xgb_cl.pkl', 'rb'))\n",
    "loaded_model_gaus = pickle.load(open('gaus.pkl', 'rb'))"
   ]
  },
  {
   "cell_type": "markdown",
   "id": "e85f5216",
   "metadata": {},
   "source": [
    "## Evaluation on LGBMClassifier"
   ]
  },
  {
   "cell_type": "code",
   "execution_count": 24,
   "id": "23edbe6b",
   "metadata": {},
   "outputs": [
    {
     "name": "stdout",
     "output_type": "stream",
     "text": [
      "0.01993355481727575\n",
      "0.75\n",
      "0.010101010101010102\n"
     ]
    }
   ],
   "source": [
    "X_test = df_audio.drop(['label'], axis=1)\n",
    "y_pred = list(loaded_model.predict(X_test))\n",
    "labels = np.array(df_audio['label'])\n",
    "print(f1_score(labels, y_pred))\n",
    "print(precision_score(labels, y_pred))\n",
    "print(recall_score(labels, y_pred))"
   ]
  },
  {
   "cell_type": "markdown",
   "id": "24ae86ae",
   "metadata": {},
   "source": [
    "## Evaluation on XGBClassifier"
   ]
  },
  {
   "cell_type": "code",
   "execution_count": 27,
   "id": "ecdc3b38",
   "metadata": {},
   "outputs": [
    {
     "name": "stdout",
     "output_type": "stream",
     "text": [
      "0.006711409395973153\n",
      "1.0\n",
      "0.003367003367003367\n"
     ]
    }
   ],
   "source": [
    "X_test = df_audio.drop(['label'], axis=1)\n",
    "y_pred = list(loaded_model_xgb.predict(X_test))\n",
    "labels = np.array(df_audio['label'])\n",
    "print(f1_score(labels, y_pred))\n",
    "print(precision_score(labels, y_pred))\n",
    "print(recall_score(labels, y_pred))"
   ]
  },
  {
   "cell_type": "markdown",
   "id": "7e773617",
   "metadata": {},
   "source": [
    "## Evaluation on GaussianNB"
   ]
  },
  {
   "cell_type": "code",
   "execution_count": 28,
   "id": "36a11b27",
   "metadata": {},
   "outputs": [
    {
     "name": "stdout",
     "output_type": "stream",
     "text": [
      "0.0\n",
      "0.0\n",
      "0.0\n"
     ]
    },
    {
     "name": "stderr",
     "output_type": "stream",
     "text": [
      "C:\\Users\\Katya\\anaconda3\\lib\\site-packages\\sklearn\\metrics\\_classification.py:1318: UndefinedMetricWarning: Precision is ill-defined and being set to 0.0 due to no predicted samples. Use `zero_division` parameter to control this behavior.\n",
      "  _warn_prf(average, modifier, msg_start, len(result))\n"
     ]
    }
   ],
   "source": [
    "X_test = df_audio.drop(['label'], axis=1)\n",
    "y_pred = list(loaded_model_gaus.predict(X_test))\n",
    "labels = np.array(df_audio['label'])\n",
    "print(f1_score(labels, y_pred))\n",
    "print(precision_score(labels, y_pred))\n",
    "print(recall_score(labels, y_pred))"
   ]
  },
  {
   "cell_type": "markdown",
   "id": "4c3e19ba",
   "metadata": {},
   "source": [
    "# Additional training on new data"
   ]
  },
  {
   "cell_type": "markdown",
   "id": "707e5b1e",
   "metadata": {},
   "source": [
    "## Split on test and train"
   ]
  },
  {
   "cell_type": "code",
   "execution_count": 9,
   "id": "1922e8ab",
   "metadata": {},
   "outputs": [],
   "source": [
    "X_train, X_test, y_train, y_test = train_test_split(df_audio.drop(['label'], axis=1), df_audio['label'], test_size=0.5, random_state=22)"
   ]
  },
  {
   "cell_type": "markdown",
   "id": "b5a82d44",
   "metadata": {},
   "source": [
    "## Additional training of the model LGBMClassifier"
   ]
  },
  {
   "cell_type": "code",
   "execution_count": 12,
   "id": "4f632f1d",
   "metadata": {},
   "outputs": [
    {
     "name": "stdout",
     "output_type": "stream",
     "text": [
      "0.7018633540372671\n",
      "0.6348314606741573\n",
      "0.7847222222222222\n"
     ]
    }
   ],
   "source": [
    "loaded_model.fit(X_train, y_train)\n",
    "y_pred = loaded_model.predict(X_test)\n",
    "print(f1_score(y_test, y_pred))\n",
    "print(precision_score(y_test, y_pred))\n",
    "print(recall_score(y_test, y_pred))"
   ]
  },
  {
   "cell_type": "markdown",
   "id": "e24daf14",
   "metadata": {},
   "source": [
    "## Additional training of the model XGBClassifier"
   ]
  },
  {
   "cell_type": "code",
   "execution_count": 13,
   "id": "b6a5ab33",
   "metadata": {},
   "outputs": [
    {
     "name": "stdout",
     "output_type": "stream",
     "text": [
      "0.7321428571428571\n",
      "0.640625\n",
      "0.8541666666666666\n"
     ]
    }
   ],
   "source": [
    "loaded_model_xgb.fit(X_train, y_train)\n",
    "y_pred = loaded_model_xgb.predict(X_test)\n",
    "print(f1_score(y_test, y_pred))\n",
    "print(precision_score(y_test, y_pred))\n",
    "print(recall_score(y_test, y_pred))"
   ]
  },
  {
   "cell_type": "markdown",
   "id": "21e46229",
   "metadata": {},
   "source": [
    "## Additional training of the model GaussianNB"
   ]
  },
  {
   "cell_type": "code",
   "execution_count": 14,
   "id": "ede76eff",
   "metadata": {},
   "outputs": [
    {
     "name": "stdout",
     "output_type": "stream",
     "text": [
      "0.7349397590361446\n",
      "0.648936170212766\n",
      "0.8472222222222222\n"
     ]
    }
   ],
   "source": [
    "loaded_model_gaus.fit(X_train, y_train)\n",
    "y_pred = loaded_model_gaus.predict(X_test)\n",
    "print(f1_score(y_test, y_pred))\n",
    "print(precision_score(y_test, y_pred))\n",
    "print(recall_score(y_test, y_pred))"
   ]
  },
  {
   "cell_type": "markdown",
   "id": "40a61b59",
   "metadata": {},
   "source": [
    "# Save models"
   ]
  },
  {
   "cell_type": "code",
   "execution_count": 15,
   "id": "1da92c14",
   "metadata": {},
   "outputs": [],
   "source": [
    "with open('LGBMClassifier_with_opochka.pkl', 'wb') as f:\n",
    "    pickle.dump(loaded_model, f)\n",
    "with open('XGBClassifier_with_opochka.pkl', 'wb') as f:\n",
    "    pickle.dump(loaded_model_xgb, f)\n",
    "with open('GaussianNB_with_opochka.pkl', 'wb') as f:\n",
    "    pickle.dump(loaded_model_gaus, f)"
   ]
  },
  {
   "cell_type": "code",
   "execution_count": null,
   "id": "00fdc0e6",
   "metadata": {},
   "outputs": [],
   "source": []
  }
 ],
 "metadata": {
  "kernelspec": {
   "display_name": "Python 3 (ipykernel)",
   "language": "python",
   "name": "python3"
  },
  "language_info": {
   "codemirror_mode": {
    "name": "ipython",
    "version": 3
   },
   "file_extension": ".py",
   "mimetype": "text/x-python",
   "name": "python",
   "nbconvert_exporter": "python",
   "pygments_lexer": "ipython3",
   "version": "3.7.4"
  }
 },
 "nbformat": 4,
 "nbformat_minor": 5
}
